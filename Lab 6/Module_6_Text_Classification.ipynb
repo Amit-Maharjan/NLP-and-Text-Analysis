{
  "cells": [
    {
      "cell_type": "markdown",
      "id": "9a568de8",
      "metadata": {
        "id": "9a568de8"
      },
      "source": [
        "<hr style=\"border:2px solid gray\"> </hr>\n",
        "<img src=\"https://mma.prnewswire.com/media/1095203/East_Tennessee_State_University_Logo.jpg?p=facebook\" width=200 height=200 />\n",
        "\n",
        "<div class=\"alert alert-block alert-info\">\n",
        "    <h1 style=\"text-align: center\">CSCI 5037 - NLP & Text Analysis</h1>\n",
        "</div>\n",
        "\n",
        "# <center>Text Classification</center>\n",
        "\n",
        "**<center>Dr. Ahmad Al-Doulat </center>**\n",
        "<center>Department of Computing </center>\n",
        "<center>East Tennessee State University</center>\n",
        "\n",
        "<hr style=\"border:2px solid lightblue\"> </hr>"
      ]
    },
    {
      "cell_type": "markdown",
      "id": "1d91af82",
      "metadata": {
        "id": "1d91af82"
      },
      "source": [
        "**Text classification** is a machine learning technique that assigns a set of predefined categories to open-ended text. Text classifiers can be used to organize, structure, and categorize pretty much any kind of text – from documents, medical studies and files, and all over the web.\n",
        "\n",
        "For example, new articles can be organized by topics; support tickets can be organized by urgency; chat conversations can be organized by language; brand mentions can be organized by sentiment; and so on.\n",
        "\n",
        "Text classification is one of the fundamental tasks in natural language processing with broad applications such as sentiment analysis, topic labeling, spam detection, and intent detection."
      ]
    },
    {
      "cell_type": "code",
      "execution_count": 1,
      "id": "a8b949a6",
      "metadata": {
        "id": "a8b949a6"
      },
      "outputs": [],
      "source": [
        "import warnings\n",
        "warnings.filterwarnings('ignore')\n",
        "\n",
        "import gzip\n",
        "from collections import Counter\n",
        "from pprint import pprint\n",
        "\n",
        "import pandas as pd\n",
        "import numpy as np\n",
        "np.random.seed(123456)\n",
        "\n",
        "import matplotlib\n",
        "import matplotlib.pyplot as plt\n",
        "\n",
        "from tqdm import tqdm\n",
        "\n",
        "import keras\n",
        "import tensorflow as tf\n",
        "from keras.datasets import imdb\n",
        "from keras.models import Sequential\n",
        "from keras.layers import Dense\n",
        "from keras.layers import Flatten\n",
        "from tensorflow.keras.layers import Conv1D\n",
        "from tensorflow.keras.layers import MaxPooling1D\n",
        "# from keras.layers.embeddings import Embedding\n",
        "from keras.preprocessing import sequence"
      ]
    },
    {
      "cell_type": "code",
      "execution_count": 2,
      "id": "15425b93",
      "metadata": {
        "id": "15425b93"
      },
      "outputs": [],
      "source": [
        "plt.style.use('seaborn')"
      ]
    },
    {
      "cell_type": "markdown",
      "id": "c8618750",
      "metadata": {
        "id": "c8618750"
      },
      "source": [
        "# IMDB Dataset"
      ]
    },
    {
      "cell_type": "code",
      "execution_count": 3,
      "id": "8c86e61f",
      "metadata": {
        "id": "8c86e61f"
      },
      "outputs": [],
      "source": [
        "top_words = 10_000\n",
        "(X_train, y_train), (X_test, y_test) = imdb.load_data(num_words=top_words)"
      ]
    },
    {
      "cell_type": "markdown",
      "id": "4a90aaf9",
      "metadata": {
        "id": "4a90aaf9"
      },
      "source": [
        "Each word is associated with a unique ID. We can easily obtain the dictionary mapping words to IDs"
      ]
    },
    {
      "cell_type": "code",
      "execution_count": 4,
      "id": "2f3c29b7",
      "metadata": {
        "id": "2f3c29b7"
      },
      "outputs": [],
      "source": [
        "word_dict = imdb.get_word_index()"
      ]
    },
    {
      "cell_type": "markdown",
      "id": "5174fae9",
      "metadata": {
        "id": "5174fae9"
      },
      "source": [
        "So we can check what the id of each word is"
      ]
    },
    {
      "cell_type": "code",
      "execution_count": 5,
      "id": "241f5bda",
      "metadata": {
        "colab": {
          "base_uri": "https://localhost:8080/"
        },
        "id": "241f5bda",
        "outputId": "c57c6601-0fbc-485f-a24e-d3e7cf34d6e7"
      },
      "outputs": [
        {
          "output_type": "execute_result",
          "data": {
            "text/plain": [
              "970"
            ]
          },
          "metadata": {},
          "execution_count": 5
        }
      ],
      "source": [
        "word_dict['casting']"
      ]
    },
    {
      "cell_type": "code",
      "execution_count": 6,
      "id": "3b64ad22",
      "metadata": {
        "colab": {
          "base_uri": "https://localhost:8080/"
        },
        "id": "3b64ad22",
        "outputId": "6d48b3d7-f563-4cce-bc1b-fe3fcae82926"
      },
      "outputs": [
        {
          "output_type": "execute_result",
          "data": {
            "text/plain": [
              "164"
            ]
          },
          "metadata": {},
          "execution_count": 6
        }
      ],
      "source": [
        "word_dict['director']"
      ]
    },
    {
      "cell_type": "markdown",
      "id": "d8795deb",
      "metadata": {
        "id": "d8795deb"
      },
      "source": [
        "We also invert the index so that we can recover the original text. A few special tokens are reserved at the beginning of the id range"
      ]
    },
    {
      "cell_type": "code",
      "execution_count": 7,
      "id": "a7e2566b",
      "metadata": {
        "id": "a7e2566b"
      },
      "outputs": [],
      "source": [
        "word_list = [\"<PAD>\", \"<START>\", \"<UNK>\", \"UNUSED\"]\n",
        "word_list.extend([k for k, v in sorted(word_dict.items(), key = lambda x:x[1])])\n",
        "word_list = np.array(word_list)"
      ]
    },
    {
      "cell_type": "code",
      "execution_count": 8,
      "id": "248cd3fe",
      "metadata": {
        "colab": {
          "base_uri": "https://localhost:8080/"
        },
        "id": "248cd3fe",
        "outputId": "ae760316-0653-45f4-a07f-5f6fe5015c7a"
      },
      "outputs": [
        {
          "output_type": "execute_result",
          "data": {
            "text/plain": [
              "[1,\n",
              " 14,\n",
              " 22,\n",
              " 16,\n",
              " 43,\n",
              " 530,\n",
              " 973,\n",
              " 1622,\n",
              " 1385,\n",
              " 65,\n",
              " 458,\n",
              " 4468,\n",
              " 66,\n",
              " 3941,\n",
              " 4,\n",
              " 173,\n",
              " 36,\n",
              " 256,\n",
              " 5,\n",
              " 25,\n",
              " 100,\n",
              " 43,\n",
              " 838,\n",
              " 112,\n",
              " 50,\n",
              " 670,\n",
              " 2,\n",
              " 9,\n",
              " 35,\n",
              " 480,\n",
              " 284,\n",
              " 5,\n",
              " 150,\n",
              " 4,\n",
              " 172,\n",
              " 112,\n",
              " 167,\n",
              " 2,\n",
              " 336,\n",
              " 385,\n",
              " 39,\n",
              " 4,\n",
              " 172,\n",
              " 4536,\n",
              " 1111,\n",
              " 17,\n",
              " 546,\n",
              " 38,\n",
              " 13,\n",
              " 447,\n",
              " 4,\n",
              " 192,\n",
              " 50,\n",
              " 16,\n",
              " 6,\n",
              " 147,\n",
              " 2025,\n",
              " 19,\n",
              " 14,\n",
              " 22,\n",
              " 4,\n",
              " 1920,\n",
              " 4613,\n",
              " 469,\n",
              " 4,\n",
              " 22,\n",
              " 71,\n",
              " 87,\n",
              " 12,\n",
              " 16,\n",
              " 43,\n",
              " 530,\n",
              " 38,\n",
              " 76,\n",
              " 15,\n",
              " 13,\n",
              " 1247,\n",
              " 4,\n",
              " 22,\n",
              " 17,\n",
              " 515,\n",
              " 17,\n",
              " 12,\n",
              " 16,\n",
              " 626,\n",
              " 18,\n",
              " 2,\n",
              " 5,\n",
              " 62,\n",
              " 386,\n",
              " 12,\n",
              " 8,\n",
              " 316,\n",
              " 8,\n",
              " 106,\n",
              " 5,\n",
              " 4,\n",
              " 2223,\n",
              " 5244,\n",
              " 16,\n",
              " 480,\n",
              " 66,\n",
              " 3785,\n",
              " 33,\n",
              " 4,\n",
              " 130,\n",
              " 12,\n",
              " 16,\n",
              " 38,\n",
              " 619,\n",
              " 5,\n",
              " 25,\n",
              " 124,\n",
              " 51,\n",
              " 36,\n",
              " 135,\n",
              " 48,\n",
              " 25,\n",
              " 1415,\n",
              " 33,\n",
              " 6,\n",
              " 22,\n",
              " 12,\n",
              " 215,\n",
              " 28,\n",
              " 77,\n",
              " 52,\n",
              " 5,\n",
              " 14,\n",
              " 407,\n",
              " 16,\n",
              " 82,\n",
              " 2,\n",
              " 8,\n",
              " 4,\n",
              " 107,\n",
              " 117,\n",
              " 5952,\n",
              " 15,\n",
              " 256,\n",
              " 4,\n",
              " 2,\n",
              " 7,\n",
              " 3766,\n",
              " 5,\n",
              " 723,\n",
              " 36,\n",
              " 71,\n",
              " 43,\n",
              " 530,\n",
              " 476,\n",
              " 26,\n",
              " 400,\n",
              " 317,\n",
              " 46,\n",
              " 7,\n",
              " 4,\n",
              " 2,\n",
              " 1029,\n",
              " 13,\n",
              " 104,\n",
              " 88,\n",
              " 4,\n",
              " 381,\n",
              " 15,\n",
              " 297,\n",
              " 98,\n",
              " 32,\n",
              " 2071,\n",
              " 56,\n",
              " 26,\n",
              " 141,\n",
              " 6,\n",
              " 194,\n",
              " 7486,\n",
              " 18,\n",
              " 4,\n",
              " 226,\n",
              " 22,\n",
              " 21,\n",
              " 134,\n",
              " 476,\n",
              " 26,\n",
              " 480,\n",
              " 5,\n",
              " 144,\n",
              " 30,\n",
              " 5535,\n",
              " 18,\n",
              " 51,\n",
              " 36,\n",
              " 28,\n",
              " 224,\n",
              " 92,\n",
              " 25,\n",
              " 104,\n",
              " 4,\n",
              " 226,\n",
              " 65,\n",
              " 16,\n",
              " 38,\n",
              " 1334,\n",
              " 88,\n",
              " 12,\n",
              " 16,\n",
              " 283,\n",
              " 5,\n",
              " 16,\n",
              " 4472,\n",
              " 113,\n",
              " 103,\n",
              " 32,\n",
              " 15,\n",
              " 16,\n",
              " 5345,\n",
              " 19,\n",
              " 178,\n",
              " 32]"
            ]
          },
          "metadata": {},
          "execution_count": 8
        }
      ],
      "source": [
        "X_train[0]"
      ]
    },
    {
      "cell_type": "code",
      "execution_count": 9,
      "id": "a901a207",
      "metadata": {
        "colab": {
          "base_uri": "https://localhost:8080/",
          "height": 104
        },
        "id": "a901a207",
        "outputId": "37667cee-e208-4f7e-d4a8-7ce43afb7a11"
      },
      "outputs": [
        {
          "output_type": "execute_result",
          "data": {
            "text/plain": [
              "\"<START> this film was just brilliant casting location scenery story direction everyone's really suited the part they played and you could just imagine being there robert <UNK> is an amazing actor and now the same being director <UNK> father came from the same scottish island as myself so i loved the fact there was a real connection with this film the witty remarks throughout the film were great it was just brilliant so much that i bought the film as soon as it was released for <UNK> and would recommend it to everyone to watch and the fly fishing was amazing really cried at the end it was so sad and you know what they say if you cry at a film it must have been good and this definitely was also <UNK> to the two little boy's that played the <UNK> of norman and paul they were just brilliant children are often left out of the <UNK> list i think because the stars that play them all grown up are such a big profile for the whole film but these children are amazing and should be praised for what they have done don't you think the whole story was so lovely because it was true and was someone's life after all that was shared with us all\""
            ],
            "application/vnd.google.colaboratory.intrinsic+json": {
              "type": "string"
            }
          },
          "metadata": {},
          "execution_count": 9
        }
      ],
      "source": [
        "\" \".join(word_list[X_train[0]])"
      ]
    },
    {
      "cell_type": "markdown",
      "id": "a9609722",
      "metadata": {
        "id": "a9609722"
      },
      "source": [
        "Each review has associated with it a value of 0 or 1."
      ]
    },
    {
      "cell_type": "code",
      "execution_count": 10,
      "id": "1baf185f",
      "metadata": {
        "colab": {
          "base_uri": "https://localhost:8080/"
        },
        "id": "1baf185f",
        "outputId": "dc332d2d-1840-44a8-9f6a-a3b7b03f787f"
      },
      "outputs": [
        {
          "output_type": "execute_result",
          "data": {
            "text/plain": [
              "{0, 1}"
            ]
          },
          "metadata": {},
          "execution_count": 10
        }
      ],
      "source": [
        "set(y_train)"
      ]
    },
    {
      "cell_type": "markdown",
      "id": "e5790c2f",
      "metadata": {
        "id": "e5790c2f"
      },
      "source": [
        "So the corresponding rating for review is"
      ]
    },
    {
      "cell_type": "code",
      "execution_count": 11,
      "id": "ee3c6974",
      "metadata": {
        "colab": {
          "base_uri": "https://localhost:8080/"
        },
        "id": "ee3c6974",
        "outputId": "8bdff519-d918-41d5-975f-6d644b6b0482"
      },
      "outputs": [
        {
          "output_type": "execute_result",
          "data": {
            "text/plain": [
              "1"
            ]
          },
          "metadata": {},
          "execution_count": 11
        }
      ],
      "source": [
        "y_train[0]"
      ]
    },
    {
      "cell_type": "markdown",
      "id": "f41f4110",
      "metadata": {
        "id": "f41f4110"
      },
      "source": [
        "1 means positive, while 0 means negative"
      ]
    },
    {
      "cell_type": "code",
      "execution_count": 12,
      "id": "8fde51df",
      "metadata": {
        "colab": {
          "base_uri": "https://localhost:8080/",
          "height": 87
        },
        "id": "8fde51df",
        "outputId": "fd0d9a7a-4985-4894-e29b-eaa702e03156"
      },
      "outputs": [
        {
          "output_type": "execute_result",
          "data": {
            "text/plain": [
              "\"<START> worst mistake of my life br br i picked this movie up at target for 5 because i figured hey it's sandler i can get some cheap laughs i was wrong completely wrong mid way through the film all three of my friends were asleep and i was still suffering worst plot worst script worst movie i have ever seen i wanted to hit my head up against a wall for an hour then i'd stop and you know why because it felt damn good upon bashing my head in i stuck that damn movie in the <UNK> and watched it burn and that felt better than anything else i've ever done it took american psycho army of darkness and kill bill just to get over that crap i hate you sandler for actually going through with this and ruining a whole day of my life\""
            ],
            "application/vnd.google.colaboratory.intrinsic+json": {
              "type": "string"
            }
          },
          "metadata": {},
          "execution_count": 12
        }
      ],
      "source": [
        "\" \".join(word_list[X_train[4]])"
      ]
    },
    {
      "cell_type": "code",
      "execution_count": 13,
      "id": "11e6e039",
      "metadata": {
        "colab": {
          "base_uri": "https://localhost:8080/"
        },
        "id": "11e6e039",
        "outputId": "8a390f4b-fd7e-4920-d5ef-dbb1823bcb75"
      },
      "outputs": [
        {
          "output_type": "execute_result",
          "data": {
            "text/plain": [
              "0"
            ]
          },
          "metadata": {},
          "execution_count": 13
        }
      ],
      "source": [
        "y_train[4]"
      ]
    },
    {
      "cell_type": "markdown",
      "id": "a7b82453",
      "metadata": {
        "id": "a7b82453"
      },
      "source": [
        "Our dataset is split into two equal parts, the training and the testing dataset"
      ]
    },
    {
      "cell_type": "code",
      "execution_count": 14,
      "id": "b5c0f1e3",
      "metadata": {
        "colab": {
          "base_uri": "https://localhost:8080/"
        },
        "id": "b5c0f1e3",
        "outputId": "f806f310-94b5-48ca-8dab-607e114baa99"
      },
      "outputs": [
        {
          "output_type": "stream",
          "name": "stdout",
          "text": [
            "Shape of training data: (25000,)\n",
            "Shape of test data: (25000,)\n"
          ]
        }
      ],
      "source": [
        "print('Shape of training data:', X_train.shape)\n",
        "print('Shape of test data:', X_test.shape)"
      ]
    },
    {
      "cell_type": "markdown",
      "id": "eb126734",
      "metadata": {
        "id": "eb126734"
      },
      "source": [
        "# Feed Forward Model"
      ]
    },
    {
      "cell_type": "markdown",
      "id": "39a17b56",
      "metadata": {
        "id": "39a17b56"
      },
      "source": [
        "We'll start by training a simple FF model without any fancyness. The first step is to pad each instance so that they all have the same size. Here we'll use the first 450 words. If the review is longer, we trucate it, while if its shorter we pad it"
      ]
    },
    {
      "cell_type": "code",
      "execution_count": 15,
      "id": "10699f20",
      "metadata": {
        "id": "10699f20"
      },
      "outputs": [],
      "source": [
        "max_words = 500\n",
        "X_train = keras.utils.pad_sequences(X_train, maxlen=max_words)\n",
        "X_test = keras.utils.pad_sequences(X_test, maxlen=max_words)"
      ]
    },
    {
      "cell_type": "code",
      "execution_count": 16,
      "id": "d29f5562",
      "metadata": {
        "colab": {
          "base_uri": "https://localhost:8080/",
          "height": 104
        },
        "id": "d29f5562",
        "outputId": "0214beb7-3e24-475f-adc6-b9b2b425aca0"
      },
      "outputs": [
        {
          "output_type": "execute_result",
          "data": {
            "text/plain": [
              "\"<PAD> <PAD> <PAD> <PAD> <PAD> <PAD> <PAD> <PAD> <PAD> <PAD> <PAD> <PAD> <PAD> <PAD> <PAD> <PAD> <PAD> <PAD> <PAD> <PAD> <PAD> <PAD> <PAD> <PAD> <PAD> <PAD> <PAD> <PAD> <PAD> <PAD> <PAD> <PAD> <PAD> <PAD> <PAD> <PAD> <PAD> <PAD> <PAD> <PAD> <PAD> <PAD> <PAD> <PAD> <PAD> <PAD> <PAD> <PAD> <PAD> <PAD> <PAD> <PAD> <PAD> <PAD> <PAD> <PAD> <PAD> <PAD> <PAD> <PAD> <PAD> <PAD> <PAD> <PAD> <PAD> <PAD> <PAD> <PAD> <PAD> <PAD> <PAD> <PAD> <PAD> <PAD> <PAD> <PAD> <PAD> <PAD> <PAD> <PAD> <PAD> <PAD> <PAD> <PAD> <PAD> <PAD> <PAD> <PAD> <PAD> <PAD> <PAD> <PAD> <PAD> <PAD> <PAD> <PAD> <PAD> <PAD> <PAD> <PAD> <PAD> <PAD> <PAD> <PAD> <PAD> <PAD> <PAD> <PAD> <PAD> <PAD> <PAD> <PAD> <PAD> <PAD> <PAD> <PAD> <PAD> <PAD> <PAD> <PAD> <PAD> <PAD> <PAD> <PAD> <PAD> <PAD> <PAD> <PAD> <PAD> <PAD> <PAD> <PAD> <PAD> <PAD> <PAD> <PAD> <PAD> <PAD> <PAD> <PAD> <PAD> <PAD> <PAD> <PAD> <PAD> <PAD> <PAD> <PAD> <PAD> <PAD> <PAD> <PAD> <PAD> <PAD> <PAD> <PAD> <PAD> <PAD> <PAD> <PAD> <PAD> <PAD> <PAD> <PAD> <PAD> <PAD> <PAD> <PAD> <PAD> <PAD> <PAD> <PAD> <PAD> <PAD> <PAD> <PAD> <PAD> <PAD> <PAD> <PAD> <PAD> <PAD> <PAD> <PAD> <PAD> <PAD> <PAD> <PAD> <PAD> <PAD> <PAD> <PAD> <PAD> <PAD> <PAD> <PAD> <PAD> <PAD> <PAD> <PAD> <PAD> <PAD> <PAD> <PAD> <PAD> <PAD> <PAD> <PAD> <PAD> <PAD> <PAD> <PAD> <PAD> <PAD> <PAD> <PAD> <PAD> <PAD> <PAD> <PAD> <PAD> <PAD> <PAD> <PAD> <PAD> <PAD> <PAD> <PAD> <PAD> <PAD> <PAD> <PAD> <PAD> <PAD> <PAD> <PAD> <PAD> <PAD> <PAD> <PAD> <PAD> <PAD> <PAD> <PAD> <PAD> <PAD> <PAD> <PAD> <PAD> <PAD> <PAD> <PAD> <PAD> <PAD> <PAD> <PAD> <PAD> <PAD> <PAD> <PAD> <PAD> <PAD> <PAD> <PAD> <PAD> <PAD> <PAD> <PAD> <PAD> <PAD> <PAD> <PAD> <PAD> <PAD> <PAD> <PAD> <PAD> <PAD> <PAD> <PAD> <PAD> <PAD> <START> this film was just brilliant casting location scenery story direction everyone's really suited the part they played and you could just imagine being there robert <UNK> is an amazing actor and now the same being director <UNK> father came from the same scottish island as myself so i loved the fact there was a real connection with this film the witty remarks throughout the film were great it was just brilliant so much that i bought the film as soon as it was released for <UNK> and would recommend it to everyone to watch and the fly fishing was amazing really cried at the end it was so sad and you know what they say if you cry at a film it must have been good and this definitely was also <UNK> to the two little boy's that played the <UNK> of norman and paul they were just brilliant children are often left out of the <UNK> list i think because the stars that play them all grown up are such a big profile for the whole film but these children are amazing and should be praised for what they have done don't you think the whole story was so lovely because it was true and was someone's life after all that was shared with us all\""
            ],
            "application/vnd.google.colaboratory.intrinsic+json": {
              "type": "string"
            }
          },
          "metadata": {},
          "execution_count": 16
        }
      ],
      "source": [
        "\" \".join(word_list[X_train[0]])"
      ]
    },
    {
      "cell_type": "markdown",
      "id": "918c92de",
      "metadata": {
        "id": "918c92de"
      },
      "source": [
        "## Model Structure"
      ]
    },
    {
      "cell_type": "markdown",
      "id": "46bac7ae",
      "metadata": {
        "id": "46bac7ae"
      },
      "source": [
        "Our model will have an embedding layer to turn our numerical ids into vectors, a hidden dense layer of 32 neurons and ReLu activation followed by an output layer with just one neuron and a sigmoid activation"
      ]
    },
    {
      "cell_type": "code",
      "execution_count": 17,
      "id": "dc34090f",
      "metadata": {
        "id": "dc34090f"
      },
      "outputs": [],
      "source": [
        "model = Sequential()\n",
        "model.add(keras.layers.Embedding(top_words, 50, input_length=max_words))\n",
        "model.add(Flatten())\n",
        "model.add(Dense(32, activation='relu'))\n",
        "model.add(Dense(1, activation='sigmoid'))"
      ]
    },
    {
      "cell_type": "markdown",
      "id": "9c545126",
      "metadata": {
        "id": "9c545126"
      },
      "source": [
        "In summary:"
      ]
    },
    {
      "cell_type": "code",
      "execution_count": 18,
      "id": "62b5f40b",
      "metadata": {
        "colab": {
          "base_uri": "https://localhost:8080/",
          "height": 257
        },
        "id": "62b5f40b",
        "outputId": "50ca1647-7d93-49d0-8c4d-10d716b97797"
      },
      "outputs": [
        {
          "output_type": "display_data",
          "data": {
            "text/plain": [
              "\u001b[1mModel: \"sequential\"\u001b[0m\n"
            ],
            "text/html": [
              "<pre style=\"white-space:pre;overflow-x:auto;line-height:normal;font-family:Menlo,'DejaVu Sans Mono',consolas,'Courier New',monospace\"><span style=\"font-weight: bold\">Model: \"sequential\"</span>\n",
              "</pre>\n"
            ]
          },
          "metadata": {}
        },
        {
          "output_type": "display_data",
          "data": {
            "text/plain": [
              "┏━━━━━━━━━━━━━━━━━━━━━━━━━━━━━━━━━━━━━━┳━━━━━━━━━━━━━━━━━━━━━━━━━━━━━┳━━━━━━━━━━━━━━━━━┓\n",
              "┃\u001b[1m \u001b[0m\u001b[1mLayer (type)                        \u001b[0m\u001b[1m \u001b[0m┃\u001b[1m \u001b[0m\u001b[1mOutput Shape               \u001b[0m\u001b[1m \u001b[0m┃\u001b[1m \u001b[0m\u001b[1m        Param #\u001b[0m\u001b[1m \u001b[0m┃\n",
              "┡━━━━━━━━━━━━━━━━━━━━━━━━━━━━━━━━━━━━━━╇━━━━━━━━━━━━━━━━━━━━━━━━━━━━━╇━━━━━━━━━━━━━━━━━┩\n",
              "│ embedding (\u001b[38;5;33mEmbedding\u001b[0m)                │ ?                           │     \u001b[38;5;34m0\u001b[0m (unbuilt) │\n",
              "├──────────────────────────────────────┼─────────────────────────────┼─────────────────┤\n",
              "│ flatten (\u001b[38;5;33mFlatten\u001b[0m)                    │ ?                           │     \u001b[38;5;34m0\u001b[0m (unbuilt) │\n",
              "├──────────────────────────────────────┼─────────────────────────────┼─────────────────┤\n",
              "│ dense (\u001b[38;5;33mDense\u001b[0m)                        │ ?                           │     \u001b[38;5;34m0\u001b[0m (unbuilt) │\n",
              "├──────────────────────────────────────┼─────────────────────────────┼─────────────────┤\n",
              "│ dense_1 (\u001b[38;5;33mDense\u001b[0m)                      │ ?                           │     \u001b[38;5;34m0\u001b[0m (unbuilt) │\n",
              "└──────────────────────────────────────┴─────────────────────────────┴─────────────────┘\n"
            ],
            "text/html": [
              "<pre style=\"white-space:pre;overflow-x:auto;line-height:normal;font-family:Menlo,'DejaVu Sans Mono',consolas,'Courier New',monospace\">┏━━━━━━━━━━━━━━━━━━━━━━━━━━━━━━━━━━━━━━┳━━━━━━━━━━━━━━━━━━━━━━━━━━━━━┳━━━━━━━━━━━━━━━━━┓\n",
              "┃<span style=\"font-weight: bold\"> Layer (type)                         </span>┃<span style=\"font-weight: bold\"> Output Shape                </span>┃<span style=\"font-weight: bold\">         Param # </span>┃\n",
              "┡━━━━━━━━━━━━━━━━━━━━━━━━━━━━━━━━━━━━━━╇━━━━━━━━━━━━━━━━━━━━━━━━━━━━━╇━━━━━━━━━━━━━━━━━┩\n",
              "│ embedding (<span style=\"color: #0087ff; text-decoration-color: #0087ff\">Embedding</span>)                │ ?                           │     <span style=\"color: #00af00; text-decoration-color: #00af00\">0</span> (unbuilt) │\n",
              "├──────────────────────────────────────┼─────────────────────────────┼─────────────────┤\n",
              "│ flatten (<span style=\"color: #0087ff; text-decoration-color: #0087ff\">Flatten</span>)                    │ ?                           │     <span style=\"color: #00af00; text-decoration-color: #00af00\">0</span> (unbuilt) │\n",
              "├──────────────────────────────────────┼─────────────────────────────┼─────────────────┤\n",
              "│ dense (<span style=\"color: #0087ff; text-decoration-color: #0087ff\">Dense</span>)                        │ ?                           │     <span style=\"color: #00af00; text-decoration-color: #00af00\">0</span> (unbuilt) │\n",
              "├──────────────────────────────────────┼─────────────────────────────┼─────────────────┤\n",
              "│ dense_1 (<span style=\"color: #0087ff; text-decoration-color: #0087ff\">Dense</span>)                      │ ?                           │     <span style=\"color: #00af00; text-decoration-color: #00af00\">0</span> (unbuilt) │\n",
              "└──────────────────────────────────────┴─────────────────────────────┴─────────────────┘\n",
              "</pre>\n"
            ]
          },
          "metadata": {}
        },
        {
          "output_type": "display_data",
          "data": {
            "text/plain": [
              "\u001b[1m Total params: \u001b[0m\u001b[38;5;34m0\u001b[0m (0.00 B)\n"
            ],
            "text/html": [
              "<pre style=\"white-space:pre;overflow-x:auto;line-height:normal;font-family:Menlo,'DejaVu Sans Mono',consolas,'Courier New',monospace\"><span style=\"font-weight: bold\"> Total params: </span><span style=\"color: #00af00; text-decoration-color: #00af00\">0</span> (0.00 B)\n",
              "</pre>\n"
            ]
          },
          "metadata": {}
        },
        {
          "output_type": "display_data",
          "data": {
            "text/plain": [
              "\u001b[1m Trainable params: \u001b[0m\u001b[38;5;34m0\u001b[0m (0.00 B)\n"
            ],
            "text/html": [
              "<pre style=\"white-space:pre;overflow-x:auto;line-height:normal;font-family:Menlo,'DejaVu Sans Mono',consolas,'Courier New',monospace\"><span style=\"font-weight: bold\"> Trainable params: </span><span style=\"color: #00af00; text-decoration-color: #00af00\">0</span> (0.00 B)\n",
              "</pre>\n"
            ]
          },
          "metadata": {}
        },
        {
          "output_type": "display_data",
          "data": {
            "text/plain": [
              "\u001b[1m Non-trainable params: \u001b[0m\u001b[38;5;34m0\u001b[0m (0.00 B)\n"
            ],
            "text/html": [
              "<pre style=\"white-space:pre;overflow-x:auto;line-height:normal;font-family:Menlo,'DejaVu Sans Mono',consolas,'Courier New',monospace\"><span style=\"font-weight: bold\"> Non-trainable params: </span><span style=\"color: #00af00; text-decoration-color: #00af00\">0</span> (0.00 B)\n",
              "</pre>\n"
            ]
          },
          "metadata": {}
        }
      ],
      "source": [
        "model.summary()"
      ]
    },
    {
      "cell_type": "markdown",
      "id": "b1e379f2",
      "metadata": {
        "id": "b1e379f2"
      },
      "source": [
        "Next we compile our model using a binary cross entropy loss function and the Adam optimizer"
      ]
    },
    {
      "cell_type": "code",
      "execution_count": 19,
      "id": "4f01ed64",
      "metadata": {
        "id": "4f01ed64"
      },
      "outputs": [],
      "source": [
        "model.compile(loss='binary_crossentropy',\n",
        "             optimizer='adam',\n",
        "             metrics=['accuracy'])"
      ]
    },
    {
      "cell_type": "markdown",
      "id": "c6913359",
      "metadata": {
        "id": "c6913359"
      },
      "source": [
        "The final step is to fit the model using the training data. We also supply the test data for validation purposes"
      ]
    },
    {
      "cell_type": "code",
      "execution_count": 20,
      "id": "8164031d",
      "metadata": {
        "colab": {
          "base_uri": "https://localhost:8080/"
        },
        "id": "8164031d",
        "outputId": "6aa8ec20-d5fd-401b-fa9f-69e64894f7c8"
      },
      "outputs": [
        {
          "output_type": "stream",
          "name": "stdout",
          "text": [
            "Epoch 1/10\n",
            "\u001b[1m196/196\u001b[0m \u001b[32m━━━━━━━━━━━━━━━━━━━━\u001b[0m\u001b[37m\u001b[0m \u001b[1m13s\u001b[0m 60ms/step - accuracy: 0.6328 - loss: 0.6010 - val_accuracy: 0.8713 - val_loss: 0.2990\n",
            "Epoch 2/10\n",
            "\u001b[1m196/196\u001b[0m \u001b[32m━━━━━━━━━━━━━━━━━━━━\u001b[0m\u001b[37m\u001b[0m \u001b[1m20s\u001b[0m 60ms/step - accuracy: 0.9352 - loss: 0.1792 - val_accuracy: 0.8716 - val_loss: 0.3040\n",
            "Epoch 3/10\n",
            "\u001b[1m196/196\u001b[0m \u001b[32m━━━━━━━━━━━━━━━━━━━━\u001b[0m\u001b[37m\u001b[0m \u001b[1m21s\u001b[0m 62ms/step - accuracy: 0.9888 - loss: 0.0519 - val_accuracy: 0.8642 - val_loss: 0.3623\n",
            "Epoch 4/10\n",
            "\u001b[1m196/196\u001b[0m \u001b[32m━━━━━━━━━━━━━━━━━━━━\u001b[0m\u001b[37m\u001b[0m \u001b[1m12s\u001b[0m 60ms/step - accuracy: 0.9989 - loss: 0.0117 - val_accuracy: 0.8631 - val_loss: 0.4102\n",
            "Epoch 5/10\n",
            "\u001b[1m196/196\u001b[0m \u001b[32m━━━━━━━━━━━━━━━━━━━━\u001b[0m\u001b[37m\u001b[0m \u001b[1m23s\u001b[0m 75ms/step - accuracy: 0.9998 - loss: 0.0034 - val_accuracy: 0.8637 - val_loss: 0.4409\n",
            "Epoch 6/10\n",
            "\u001b[1m196/196\u001b[0m \u001b[32m━━━━━━━━━━━━━━━━━━━━\u001b[0m\u001b[37m\u001b[0m \u001b[1m17s\u001b[0m 59ms/step - accuracy: 1.0000 - loss: 0.0014 - val_accuracy: 0.8624 - val_loss: 0.4743\n",
            "Epoch 7/10\n",
            "\u001b[1m196/196\u001b[0m \u001b[32m━━━━━━━━━━━━━━━━━━━━\u001b[0m\u001b[37m\u001b[0m \u001b[1m21s\u001b[0m 62ms/step - accuracy: 1.0000 - loss: 0.0010 - val_accuracy: 0.8645 - val_loss: 0.4790\n",
            "Epoch 8/10\n",
            "\u001b[1m196/196\u001b[0m \u001b[32m━━━━━━━━━━━━━━━━━━━━\u001b[0m\u001b[37m\u001b[0m \u001b[1m12s\u001b[0m 62ms/step - accuracy: 1.0000 - loss: 6.3187e-04 - val_accuracy: 0.8647 - val_loss: 0.4939\n",
            "Epoch 9/10\n",
            "\u001b[1m196/196\u001b[0m \u001b[32m━━━━━━━━━━━━━━━━━━━━\u001b[0m\u001b[37m\u001b[0m \u001b[1m20s\u001b[0m 59ms/step - accuracy: 1.0000 - loss: 4.4631e-04 - val_accuracy: 0.8654 - val_loss: 0.5070\n",
            "Epoch 10/10\n",
            "\u001b[1m196/196\u001b[0m \u001b[32m━━━━━━━━━━━━━━━━━━━━\u001b[0m\u001b[37m\u001b[0m \u001b[1m12s\u001b[0m 59ms/step - accuracy: 1.0000 - loss: 3.3713e-04 - val_accuracy: 0.8656 - val_loss: 0.5190\n"
          ]
        }
      ],
      "source": [
        "history = model.fit(X_train, y_train,\n",
        "                   validation_data=(X_test, y_test),\n",
        "                   epochs=10,\n",
        "                   batch_size=128,\n",
        "                   verbose=1)"
      ]
    },
    {
      "cell_type": "markdown",
      "id": "05857eb4",
      "metadata": {
        "id": "05857eb4"
      },
      "source": [
        "Small utility function to display the results"
      ]
    },
    {
      "cell_type": "code",
      "execution_count": 21,
      "id": "d8c13b46",
      "metadata": {
        "id": "d8c13b46"
      },
      "outputs": [],
      "source": [
        "def plot_history(history):\n",
        "    fig, ax_lst = plt.subplots(1, 2, sharex=True, sharey=True)\n",
        "\n",
        "    epochs = np.array(history.epoch) + 1\n",
        "\n",
        "    ax_lst[0].plot(epochs, history.history['loss'], label='Training')\n",
        "    ax_lst[0].plot(epochs, history.history['val_loss'], label='Testing')\n",
        "    ax_lst[0].set_ylabel('Loss')\n",
        "    ax_lst[0].set_xlabel('Epoch')\n",
        "    ax_lst[0].set_xticks(epochs)\n",
        "\n",
        "    ax_lst[1].plot(epochs, history.history['accuracy'], label='Training')\n",
        "    ax_lst[1].plot(epochs, history.history['val_accuracy'], label='Testing')\n",
        "    ax_lst[1].set_ylabel('Accuracy')\n",
        "    ax_lst[1].set_xlabel('Epoch')\n",
        "    ax_lst[1].set_xticks(epochs)\n",
        "\n",
        "    fig.tight_layout()"
      ]
    },
    {
      "cell_type": "code",
      "execution_count": 22,
      "id": "63111a08",
      "metadata": {
        "colab": {
          "base_uri": "https://localhost:8080/",
          "height": 557
        },
        "id": "63111a08",
        "outputId": "d01f970c-71b1-4564-c97b-f2323617a51c"
      },
      "outputs": [
        {
          "output_type": "display_data",
          "data": {
            "text/plain": [
              "<Figure size 800x550 with 2 Axes>"
            ],
            "image/png": "[encoded data removed]"
          },
          "metadata": {}
        }
      ],
      "source": [
        "plot_history(history)"
      ]
    },
    {
      "cell_type": "markdown",
      "id": "ad2440b0",
      "metadata": {
        "id": "ad2440b0"
      },
      "source": [
        "Looks like we are overfitting the data after just a few epochs"
      ]
    },
    {
      "cell_type": "code",
      "source": [
        "from tensorflow.keras.callbacks import EarlyStopping\n",
        "\n",
        "# Define EarlyStopping callback\n",
        "early_stopping = EarlyStopping(\n",
        "    monitor='val_loss',  # Monitor the validation loss\n",
        "    patience=3,          # Number of epochs to wait for improvement\n",
        "    restore_best_weights=True  # Restore the weights of the best epoch\n",
        ")\n",
        "\n",
        "# Fit the model with EarlyStopping callback\n",
        "history = model.fit(\n",
        "    X_train, y_train,\n",
        "    validation_data=(X_test, y_test),\n",
        "    epochs=10,\n",
        "    batch_size=128,\n",
        "    verbose=1,\n",
        "    callbacks=[early_stopping]  # Include EarlyStopping here\n",
        ")"
      ],
      "metadata": {
        "colab": {
          "base_uri": "https://localhost:8080/"
        },
        "id": "hjhE3iDQQeiq",
        "outputId": "7fd662f8-a0d6-4f23-abf0-e9706af8a6ce"
      },
      "id": "hjhE3iDQQeiq",
      "execution_count": 23,
      "outputs": [
        {
          "output_type": "stream",
          "name": "stdout",
          "text": [
            "Epoch 1/10\n",
            "\u001b[1m196/196\u001b[0m \u001b[32m━━━━━━━━━━━━━━━━━━━━\u001b[0m\u001b[37m\u001b[0m \u001b[1m11s\u001b[0m 56ms/step - accuracy: 1.0000 - loss: 2.6239e-04 - val_accuracy: 0.8651 - val_loss: 0.5291\n",
            "Epoch 2/10\n",
            "\u001b[1m196/196\u001b[0m \u001b[32m━━━━━━━━━━━━━━━━━━━━\u001b[0m\u001b[37m\u001b[0m \u001b[1m12s\u001b[0m 60ms/step - accuracy: 1.0000 - loss: 2.1045e-04 - val_accuracy: 0.8658 - val_loss: 0.5393\n",
            "Epoch 3/10\n",
            "\u001b[1m196/196\u001b[0m \u001b[32m━━━━━━━━━━━━━━━━━━━━\u001b[0m\u001b[37m\u001b[0m \u001b[1m12s\u001b[0m 59ms/step - accuracy: 1.0000 - loss: 1.6584e-04 - val_accuracy: 0.8651 - val_loss: 0.5484\n",
            "Epoch 4/10\n",
            "\u001b[1m196/196\u001b[0m \u001b[32m━━━━━━━━━━━━━━━━━━━━\u001b[0m\u001b[37m\u001b[0m \u001b[1m20s\u001b[0m 59ms/step - accuracy: 1.0000 - loss: 1.3974e-04 - val_accuracy: 0.8664 - val_loss: 0.5577\n"
          ]
        }
      ]
    },
    {
      "cell_type": "code",
      "source": [
        "plot_history(history)"
      ],
      "metadata": {
        "colab": {
          "base_uri": "https://localhost:8080/",
          "height": 557
        },
        "id": "s0YTQjcpUW3m",
        "outputId": "c2eeb455-94b6-47c2-ea0a-6f9fedd4e93f"
      },
      "id": "s0YTQjcpUW3m",
      "execution_count": 24,
      "outputs": [
        {
          "output_type": "display_data",
          "data": {
            "text/plain": [
              "<Figure size 800x550 with 2 Axes>"
            ],
            "image/png": "[encoded data removed]"
          },
          "metadata": {}
        }
      ]
    },
    {
      "cell_type": "markdown",
      "id": "03a4841b",
      "metadata": {
        "id": "03a4841b"
      },
      "source": [
        "# Convolutional Model"
      ]
    },
    {
      "cell_type": "markdown",
      "id": "53f9fe90",
      "metadata": {
        "id": "53f9fe90"
      },
      "source": [
        "Now we add a convolution layer between the embedding layer and the dense layer"
      ]
    },
    {
      "cell_type": "code",
      "execution_count": 25,
      "id": "3286f65f",
      "metadata": {
        "id": "3286f65f"
      },
      "outputs": [],
      "source": [
        "model = Sequential()\n",
        "model.add(keras.layers.Embedding(top_words, 50, input_length=max_words))\n",
        "model.add(Conv1D(32, 3, padding='same', activation='relu'))\n",
        "model.add(MaxPooling1D())\n",
        "model.add(Flatten())\n",
        "model.add(Dense(32, activation='relu'))\n",
        "model.add(Dense(1, activation='sigmoid'))"
      ]
    },
    {
      "cell_type": "markdown",
      "id": "02f8430e",
      "metadata": {
        "id": "02f8430e"
      },
      "source": [
        "Compile and fit the model"
      ]
    },
    {
      "cell_type": "code",
      "execution_count": 26,
      "id": "c6d2b69b",
      "metadata": {
        "id": "c6d2b69b"
      },
      "outputs": [],
      "source": [
        "model.compile(loss='binary_crossentropy',\n",
        "             optimizer='adam',\n",
        "             metrics=['accuracy'])"
      ]
    },
    {
      "cell_type": "code",
      "execution_count": 27,
      "id": "98090335",
      "metadata": {
        "colab": {
          "base_uri": "https://localhost:8080/"
        },
        "id": "98090335",
        "outputId": "6174580b-b71a-420f-d527-4962b2721491"
      },
      "outputs": [
        {
          "output_type": "stream",
          "name": "stdout",
          "text": [
            "Epoch 1/10\n",
            "\u001b[1m196/196\u001b[0m \u001b[32m━━━━━━━━━━━━━━━━━━━━\u001b[0m\u001b[37m\u001b[0m \u001b[1m31s\u001b[0m 149ms/step - accuracy: 0.6270 - loss: 0.5951 - val_accuracy: 0.8888 - val_loss: 0.2702\n",
            "Epoch 2/10\n",
            "\u001b[1m196/196\u001b[0m \u001b[32m━━━━━━━━━━━━━━━━━━━━\u001b[0m\u001b[37m\u001b[0m \u001b[1m41s\u001b[0m 149ms/step - accuracy: 0.9307 - loss: 0.1934 - val_accuracy: 0.8874 - val_loss: 0.2722\n",
            "Epoch 3/10\n",
            "\u001b[1m196/196\u001b[0m \u001b[32m━━━━━━━━━━━━━━━━━━━━\u001b[0m\u001b[37m\u001b[0m \u001b[1m30s\u001b[0m 152ms/step - accuracy: 0.9616 - loss: 0.1152 - val_accuracy: 0.8788 - val_loss: 0.3063\n",
            "Epoch 4/10\n",
            "\u001b[1m196/196\u001b[0m \u001b[32m━━━━━━━━━━━━━━━━━━━━\u001b[0m\u001b[37m\u001b[0m \u001b[1m30s\u001b[0m 151ms/step - accuracy: 0.9803 - loss: 0.0680 - val_accuracy: 0.8765 - val_loss: 0.3745\n",
            "Epoch 5/10\n",
            "\u001b[1m196/196\u001b[0m \u001b[32m━━━━━━━━━━━━━━━━━━━━\u001b[0m\u001b[37m\u001b[0m \u001b[1m44s\u001b[0m 166ms/step - accuracy: 0.9915 - loss: 0.0363 - val_accuracy: 0.8717 - val_loss: 0.4745\n",
            "Epoch 6/10\n",
            "\u001b[1m196/196\u001b[0m \u001b[32m━━━━━━━━━━━━━━━━━━━━\u001b[0m\u001b[37m\u001b[0m \u001b[1m40s\u001b[0m 161ms/step - accuracy: 0.9975 - loss: 0.0152 - val_accuracy: 0.8715 - val_loss: 0.5575\n",
            "Epoch 7/10\n",
            "\u001b[1m196/196\u001b[0m \u001b[32m━━━━━━━━━━━━━━━━━━━━\u001b[0m\u001b[37m\u001b[0m \u001b[1m41s\u001b[0m 163ms/step - accuracy: 0.9996 - loss: 0.0047 - val_accuracy: 0.8696 - val_loss: 0.6447\n",
            "Epoch 8/10\n",
            "\u001b[1m196/196\u001b[0m \u001b[32m━━━━━━━━━━━━━━━━━━━━\u001b[0m\u001b[37m\u001b[0m \u001b[1m32s\u001b[0m 163ms/step - accuracy: 0.9999 - loss: 0.0025 - val_accuracy: 0.8692 - val_loss: 0.7141\n",
            "Epoch 9/10\n",
            "\u001b[1m196/196\u001b[0m \u001b[32m━━━━━━━━━━━━━━━━━━━━\u001b[0m\u001b[37m\u001b[0m \u001b[1m40s\u001b[0m 159ms/step - accuracy: 1.0000 - loss: 8.6162e-04 - val_accuracy: 0.8694 - val_loss: 0.7616\n",
            "Epoch 10/10\n",
            "\u001b[1m196/196\u001b[0m \u001b[32m━━━━━━━━━━━━━━━━━━━━\u001b[0m\u001b[37m\u001b[0m \u001b[1m41s\u001b[0m 158ms/step - accuracy: 1.0000 - loss: 4.4933e-04 - val_accuracy: 0.8656 - val_loss: 0.8421\n"
          ]
        }
      ],
      "source": [
        "history = model.fit(X_train, y_train,\n",
        "                   validation_data=(X_test, y_test),\n",
        "                   epochs=10,\n",
        "                   batch_size=128,\n",
        "                   verbose=1)"
      ]
    },
    {
      "cell_type": "markdown",
      "id": "db4fb330",
      "metadata": {
        "id": "db4fb330"
      },
      "source": [
        "This model takes significantly longer to train, but produces much better results"
      ]
    },
    {
      "cell_type": "code",
      "execution_count": 28,
      "id": "c97ca2c9",
      "metadata": {
        "colab": {
          "base_uri": "https://localhost:8080/",
          "height": 557
        },
        "id": "c97ca2c9",
        "outputId": "ed89cc92-697f-4bc5-b269-ad07fa20c26d"
      },
      "outputs": [
        {
          "output_type": "display_data",
          "data": {
            "text/plain": [
              "<Figure size 800x550 with 2 Axes>"
            ],
            "image/png": "[encoded data removed]"
          },
          "metadata": {}
        }
      ],
      "source": [
        "plot_history(history)"
      ]
    }
  ],
  "metadata": {
    "kernelspec": {
      "display_name": "Python 3 (ipykernel)",
      "language": "python",
      "name": "python3"
    },
    "language_info": {
      "codemirror_mode": {
        "name": "ipython",
        "version": 3
      },
      "file_extension": ".py",
      "mimetype": "text/x-python",
      "name": "python",
      "nbconvert_exporter": "python",
      "pygments_lexer": "ipython3",
      "version": "3.12.1"
    },
    "colab": {
      "provenance": []
    }
  },
  "nbformat": 4,
  "nbformat_minor": 5
}