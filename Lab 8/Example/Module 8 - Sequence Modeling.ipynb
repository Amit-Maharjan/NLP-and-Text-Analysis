{
 "cells": [
  {
   "cell_type": "markdown",
   "id": "9a568de8",
   "metadata": {},
   "source": [
    "<hr style=\"border:2px solid gray\"> </hr>\n",
    "<img src=\"https://mma.prnewswire.com/media/1095203/East_Tennessee_State_University_Logo.jpg?p=facebook\" width=200 height=200 />\n",
    "\n",
    "<div class=\"alert alert-block alert-info\">\n",
    "    <h1 style=\"text-align: center\">CSCI 5037 - NLP & Text Analysis</h1>\n",
    "</div>\n",
    "\n",
    "# <center>Sequence Modeling</center>\n",
    "\n",
    "**<center>Dr. Ahmad Al-Doulat </center>**\n",
    "<center>Department of Computing </center>\n",
    "<center>East Tennessee State University</center>\n",
    "\n",
    "<hr style=\"border:2px solid lightblue\"> </hr>"
   ]
  },
  {
   "cell_type": "code",
   "execution_count": 1,
   "id": "a8b949a6",
   "metadata": {},
   "outputs": [],
   "source": [
    "import warnings\n",
    "warnings.filterwarnings('ignore')\n",
    "\n",
    "import gzip\n",
    "from collections import Counter\n",
    "from pprint import pprint\n",
    "\n",
    "import pandas as pd\n",
    "import numpy as np\n",
    "np.random.seed(42)\n",
    "\n",
    "import matplotlib\n",
    "import matplotlib.pyplot as plt\n",
    "\n",
    "from tqdm import tqdm\n",
    "tqdm.pandas()\n",
    "\n",
    "np.random.seed(123)\n",
    "\n",
    "import keras\n",
    "import tensorflow as tf\n",
    "from keras.models import Sequential\n",
    "from keras.layers import Embedding, SimpleRNN\n",
    "from keras.layers import LSTM, GRU\n",
    "from keras.layers import Dense\n",
    "from keras.datasets import imdb\n",
    "from keras.preprocessing import sequence\n",
    "\n",
    "import watermark\n",
    "\n",
    "%load_ext watermark\n",
    "%matplotlib inline"
   ]
  },
  {
   "cell_type": "code",
   "execution_count": 2,
   "id": "664d48fc",
   "metadata": {},
   "outputs": [
    {
     "name": "stdout",
     "output_type": "stream",
     "text": [
      "Last updated: 2022-10-29T15:31:19.929954-04:00\n",
      "\n",
      "Python implementation: CPython\n",
      "Python version       : 3.9.12\n",
      "IPython version      : 8.2.0\n",
      "\n",
      "Compiler    : MSC v.1916 64 bit (AMD64)\n",
      "OS          : Windows\n",
      "Release     : 10\n",
      "Machine     : AMD64\n",
      "Processor   : Intel64 Family 6 Model 151 Stepping 2, GenuineIntel\n",
      "CPU cores   : 24\n",
      "Architecture: 64bit\n",
      "\n"
     ]
    }
   ],
   "source": [
    "%watermark"
   ]
  },
  {
   "cell_type": "code",
   "execution_count": 3,
   "id": "15425b93",
   "metadata": {},
   "outputs": [],
   "source": [
    "plt.style.use('seaborn')"
   ]
  },
  {
   "cell_type": "markdown",
   "id": "c8618750",
   "metadata": {},
   "source": [
    "# IMDB Dataset "
   ]
  },
  {
   "cell_type": "code",
   "execution_count": 4,
   "id": "8c86e61f",
   "metadata": {},
   "outputs": [],
   "source": [
    "top_words = 10000\n",
    "max_words = 500\n",
    "\n",
    "(X_train, y_train), (X_test, y_test) = imdb.load_data(num_words=top_words)\n",
    "\n",
    "word_dict = imdb.get_word_index()\n",
    "word_list = [\"<PAD>\", \"<START>\", \"<UNK>\", \"UNUSED\"]\n",
    "word_list.extend([k for k, v in sorted(word_dict.items(), key = lambda x:x[1])])\n",
    "word_list = np.array(word_list)"
   ]
  },
  {
   "cell_type": "code",
   "execution_count": 5,
   "id": "e88885c1",
   "metadata": {},
   "outputs": [],
   "source": [
    "X_train = keras.utils.pad_sequences(X_train, maxlen=max_words)\n",
    "X_test = keras.utils.pad_sequences(X_test, maxlen=max_words)"
   ]
  },
  {
   "cell_type": "markdown",
   "id": "4a90aaf9",
   "metadata": {},
   "source": [
    "# SimpleRNN Model "
   ]
  },
  {
   "cell_type": "code",
   "execution_count": 6,
   "id": "2f3c29b7",
   "metadata": {},
   "outputs": [
    {
     "name": "stdout",
     "output_type": "stream",
     "text": [
      "Model: \"sequential\"\n",
      "_________________________________________________________________\n",
      " Layer (type)                Output Shape              Param #   \n",
      "=================================================================\n",
      " embedding (Embedding)       (None, 500, 32)           320000    \n",
      "                                                                 \n",
      " simple_rnn (SimpleRNN)      (None, 32)                2080      \n",
      "                                                                 \n",
      " dense (Dense)               (None, 1)                 33        \n",
      "                                                                 \n",
      "=================================================================\n",
      "Total params: 322,113\n",
      "Trainable params: 322,113\n",
      "Non-trainable params: 0\n",
      "_________________________________________________________________\n"
     ]
    }
   ],
   "source": [
    "model = Sequential()\n",
    "model.add(Embedding(top_words, 32, input_length=max_words))\n",
    "model.add(SimpleRNN(32))\n",
    "model.add(Dense(1, activation='sigmoid'))\n",
    "model.summary()"
   ]
  },
  {
   "cell_type": "code",
   "execution_count": 7,
   "id": "cf7e1067",
   "metadata": {},
   "outputs": [],
   "source": [
    "model.compile(loss='binary_crossentropy',\n",
    "             optimizer='adam',\n",
    "             metrics=['accuracy'])"
   ]
  },
  {
   "cell_type": "code",
   "execution_count": 8,
   "id": "218efb0c",
   "metadata": {},
   "outputs": [
    {
     "name": "stdout",
     "output_type": "stream",
     "text": [
      "Epoch 1/10\n",
      "196/196 [==============================] - 10s 51ms/step - loss: 0.6396 - accuracy: 0.6272 - val_loss: 0.4837 - val_accuracy: 0.7771\n",
      "Epoch 2/10\n",
      "196/196 [==============================] - 9s 48ms/step - loss: 0.3596 - accuracy: 0.8491 - val_loss: 0.3662 - val_accuracy: 0.8465\n",
      "Epoch 3/10\n",
      "196/196 [==============================] - 9s 48ms/step - loss: 0.2256 - accuracy: 0.9155 - val_loss: 0.3557 - val_accuracy: 0.8595\n",
      "Epoch 4/10\n",
      "196/196 [==============================] - 9s 48ms/step - loss: 0.1407 - accuracy: 0.9520 - val_loss: 0.4077 - val_accuracy: 0.8430\n",
      "Epoch 5/10\n",
      "196/196 [==============================] - 9s 48ms/step - loss: 0.0776 - accuracy: 0.9769 - val_loss: 0.4717 - val_accuracy: 0.8190\n",
      "Epoch 6/10\n",
      "196/196 [==============================] - 10s 49ms/step - loss: 0.0428 - accuracy: 0.9886 - val_loss: 0.5031 - val_accuracy: 0.8376\n",
      "Epoch 7/10\n",
      "196/196 [==============================] - 9s 48ms/step - loss: 0.0336 - accuracy: 0.9910 - val_loss: 0.5411 - val_accuracy: 0.8527\n",
      "Epoch 8/10\n",
      "196/196 [==============================] - 10s 49ms/step - loss: 0.0223 - accuracy: 0.9952 - val_loss: 0.5761 - val_accuracy: 0.8472\n",
      "Epoch 9/10\n",
      "196/196 [==============================] - 9s 48ms/step - loss: 0.0089 - accuracy: 0.9987 - val_loss: 0.6163 - val_accuracy: 0.8498\n",
      "Epoch 10/10\n",
      "196/196 [==============================] - 9s 48ms/step - loss: 0.0041 - accuracy: 0.9996 - val_loss: 0.6442 - val_accuracy: 0.8445\n"
     ]
    }
   ],
   "source": [
    "history = model.fit(X_train, y_train,\n",
    "                   validation_data=(X_test, y_test),\n",
    "                   epochs=10,\n",
    "                   batch_size=128,\n",
    "                   verbose=1)"
   ]
  },
  {
   "cell_type": "code",
   "execution_count": 9,
   "id": "a6648885",
   "metadata": {},
   "outputs": [],
   "source": [
    "def plot_history(history):\n",
    "    fig, ax_lst = plt.subplots(1, 2, sharex=True, sharey=True)\n",
    "    \n",
    "    epochs = np.array(history.epoch) + 1\n",
    "    \n",
    "    ax_lst[0].plot(epochs, history.history['loss'], label='Training')    \n",
    "    ax_lst[0].plot(epochs, history.history['val_loss'], label='Testing')\n",
    "    ax_lst[0].set_ylabel('Loss')\n",
    "    ax_lst[0].set_xlabel('Epoch')\n",
    "    ax_lst[0].set_xticks(epochs)\n",
    "    \n",
    "    ax_lst[1].plot(epochs, history.history['accuracy'], label='Training')    \n",
    "    ax_lst[1].plot(epochs, history.history['val_accuracy'], label='Testing')\n",
    "    ax_lst[1].set_ylabel('Accuracy')\n",
    "    ax_lst[1].set_xlabel('Epoch')\n",
    "    ax_lst[1].set_xticks(epochs)\n",
    "    \n",
    "    fig.tight_layout()"
   ]
  },
  {
   "cell_type": "code",
   "execution_count": 10,
   "id": "24172836",
   "metadata": {},
   "outputs": [
    {
     "data": {
      "image/png": "[encoded data removed]",
      "text/plain": [
       "<Figure size 576x396 with 2 Axes>"
      ]
     },
     "metadata": {},
     "output_type": "display_data"
    }
   ],
   "source": [
    "plot_history(history)"
   ]
  },
  {
   "cell_type": "markdown",
   "id": "bfe0d4b2",
   "metadata": {},
   "source": [
    "# GRU"
   ]
  },
  {
   "cell_type": "code",
   "execution_count": 11,
   "id": "0d366025",
   "metadata": {},
   "outputs": [
    {
     "name": "stdout",
     "output_type": "stream",
     "text": [
      "Model: \"sequential_1\"\n",
      "_________________________________________________________________\n",
      " Layer (type)                Output Shape              Param #   \n",
      "=================================================================\n",
      " embedding_1 (Embedding)     (None, 500, 32)           320000    \n",
      "                                                                 \n",
      " gru (GRU)                   (None, 32)                6336      \n",
      "                                                                 \n",
      " dense_1 (Dense)             (None, 1)                 33        \n",
      "                                                                 \n",
      "=================================================================\n",
      "Total params: 326,369\n",
      "Trainable params: 326,369\n",
      "Non-trainable params: 0\n",
      "_________________________________________________________________\n"
     ]
    }
   ],
   "source": [
    "model = Sequential()\n",
    "model.add(Embedding(top_words, 32, input_length=max_words))\n",
    "model.add(GRU(32))\n",
    "model.add(Dense(1, activation='sigmoid'))\n",
    "model.summary()"
   ]
  },
  {
   "cell_type": "code",
   "execution_count": 12,
   "id": "fb46a3f4",
   "metadata": {},
   "outputs": [],
   "source": [
    "model.compile(loss='binary_crossentropy',\n",
    "             optimizer='adam',\n",
    "             metrics=['accuracy'])"
   ]
  },
  {
   "cell_type": "code",
   "execution_count": 13,
   "id": "7bf95b16",
   "metadata": {},
   "outputs": [
    {
     "name": "stdout",
     "output_type": "stream",
     "text": [
      "Epoch 1/10\n",
      "196/196 [==============================] - 22s 105ms/step - loss: 0.4859 - accuracy: 0.7486 - val_loss: 0.3296 - val_accuracy: 0.8595\n",
      "Epoch 2/10\n",
      "196/196 [==============================] - 20s 103ms/step - loss: 0.2525 - accuracy: 0.9018 - val_loss: 0.3118 - val_accuracy: 0.8724\n",
      "Epoch 3/10\n",
      "196/196 [==============================] - 20s 102ms/step - loss: 0.1930 - accuracy: 0.9295 - val_loss: 0.3255 - val_accuracy: 0.8692\n",
      "Epoch 4/10\n",
      "196/196 [==============================] - 20s 104ms/step - loss: 0.1666 - accuracy: 0.9411 - val_loss: 0.3393 - val_accuracy: 0.8648\n",
      "Epoch 5/10\n",
      "196/196 [==============================] - 20s 103ms/step - loss: 0.1377 - accuracy: 0.9531 - val_loss: 0.3772 - val_accuracy: 0.8591\n",
      "Epoch 6/10\n",
      "196/196 [==============================] - 20s 103ms/step - loss: 0.1234 - accuracy: 0.9591 - val_loss: 0.4069 - val_accuracy: 0.8648\n",
      "Epoch 7/10\n",
      "196/196 [==============================] - 20s 102ms/step - loss: 0.1022 - accuracy: 0.9652 - val_loss: 0.4503 - val_accuracy: 0.8595\n",
      "Epoch 8/10\n",
      "196/196 [==============================] - 20s 102ms/step - loss: 0.0782 - accuracy: 0.9762 - val_loss: 0.4923 - val_accuracy: 0.8552\n",
      "Epoch 9/10\n",
      "196/196 [==============================] - 21s 105ms/step - loss: 0.0729 - accuracy: 0.9774 - val_loss: 0.4938 - val_accuracy: 0.8588\n",
      "Epoch 10/10\n",
      "196/196 [==============================] - 21s 105ms/step - loss: 0.0582 - accuracy: 0.9824 - val_loss: 0.5553 - val_accuracy: 0.8472\n"
     ]
    }
   ],
   "source": [
    "history = model.fit(X_train, y_train,\n",
    "                   validation_data=(X_test, y_test),\n",
    "                   epochs=10,\n",
    "                   batch_size=128,\n",
    "                   verbose=1)"
   ]
  },
  {
   "cell_type": "code",
   "execution_count": 14,
   "id": "b5dd7fcb",
   "metadata": {},
   "outputs": [
    {
     "data": {
      "image/png": "[encoded data removed]",
      "text/plain": [
       "<Figure size 576x396 with 2 Axes>"
      ]
     },
     "metadata": {},
     "output_type": "display_data"
    }
   ],
   "source": [
    "plot_history(history)"
   ]
  },
  {
   "cell_type": "markdown",
   "id": "55bf0021",
   "metadata": {},
   "source": [
    "# LSTM"
   ]
  },
  {
   "cell_type": "code",
   "execution_count": 15,
   "id": "382c3505",
   "metadata": {},
   "outputs": [
    {
     "name": "stdout",
     "output_type": "stream",
     "text": [
      "Model: \"sequential_2\"\n",
      "_________________________________________________________________\n",
      " Layer (type)                Output Shape              Param #   \n",
      "=================================================================\n",
      " embedding_2 (Embedding)     (None, 500, 32)           320000    \n",
      "                                                                 \n",
      " lstm (LSTM)                 (None, 32)                8320      \n",
      "                                                                 \n",
      " dense_2 (Dense)             (None, 1)                 33        \n",
      "                                                                 \n",
      "=================================================================\n",
      "Total params: 328,353\n",
      "Trainable params: 328,353\n",
      "Non-trainable params: 0\n",
      "_________________________________________________________________\n"
     ]
    }
   ],
   "source": [
    "model = Sequential()\n",
    "model.add(Embedding(top_words, 32, input_length=max_words))\n",
    "model.add(LSTM(32))\n",
    "model.add(Dense(1, activation='sigmoid'))\n",
    "model.summary()"
   ]
  },
  {
   "cell_type": "code",
   "execution_count": 16,
   "id": "b0f523b4",
   "metadata": {},
   "outputs": [],
   "source": [
    "model.compile(loss='binary_crossentropy',\n",
    "             optimizer='adam',\n",
    "             metrics=['accuracy'])"
   ]
  },
  {
   "cell_type": "code",
   "execution_count": 17,
   "id": "0b575655",
   "metadata": {},
   "outputs": [
    {
     "name": "stdout",
     "output_type": "stream",
     "text": [
      "Epoch 1/10\n",
      "196/196 [==============================] - 25s 125ms/step - loss: 0.4696 - accuracy: 0.7776 - val_loss: 0.3209 - val_accuracy: 0.8670\n",
      "Epoch 2/10\n",
      "196/196 [==============================] - 24s 124ms/step - loss: 0.2502 - accuracy: 0.9038 - val_loss: 0.3025 - val_accuracy: 0.8764\n",
      "Epoch 3/10\n",
      "196/196 [==============================] - 24s 123ms/step - loss: 0.1852 - accuracy: 0.9345 - val_loss: 0.3063 - val_accuracy: 0.8758\n",
      "Epoch 4/10\n",
      "196/196 [==============================] - 24s 124ms/step - loss: 0.1463 - accuracy: 0.9502 - val_loss: 0.3748 - val_accuracy: 0.8707\n",
      "Epoch 5/10\n",
      "196/196 [==============================] - 24s 123ms/step - loss: 0.1210 - accuracy: 0.9602 - val_loss: 0.4423 - val_accuracy: 0.8613\n",
      "Epoch 6/10\n",
      "196/196 [==============================] - 24s 123ms/step - loss: 0.1062 - accuracy: 0.9659 - val_loss: 0.3994 - val_accuracy: 0.8615\n",
      "Epoch 7/10\n",
      "196/196 [==============================] - 24s 123ms/step - loss: 0.1273 - accuracy: 0.9547 - val_loss: 0.4125 - val_accuracy: 0.8630\n",
      "Epoch 8/10\n",
      "196/196 [==============================] - 24s 122ms/step - loss: 0.0795 - accuracy: 0.9751 - val_loss: 0.5528 - val_accuracy: 0.8527\n",
      "Epoch 9/10\n",
      "196/196 [==============================] - 24s 121ms/step - loss: 0.0770 - accuracy: 0.9761 - val_loss: 0.5411 - val_accuracy: 0.8558\n",
      "Epoch 10/10\n",
      "196/196 [==============================] - 24s 123ms/step - loss: 0.0689 - accuracy: 0.9788 - val_loss: 0.6742 - val_accuracy: 0.8484\n"
     ]
    }
   ],
   "source": [
    "history = model.fit(X_train, y_train,\n",
    "                   validation_data=(X_test, y_test),\n",
    "                   epochs=10,\n",
    "                   batch_size=128,\n",
    "                   verbose=1)"
   ]
  },
  {
   "cell_type": "code",
   "execution_count": 18,
   "id": "99f4a387",
   "metadata": {},
   "outputs": [
    {
     "data": {
      "image/png": "[encoded data removed]",
      "text/plain": [
       "<Figure size 576x396 with 2 Axes>"
      ]
     },
     "metadata": {},
     "output_type": "display_data"
    }
   ],
   "source": [
    "plot_history(history)"
   ]
  }
 ],
 "metadata": {
  "kernelspec": {
   "display_name": "Python 3 (ipykernel)",
   "language": "python",
   "name": "python3"
  },
  "language_info": {
   "codemirror_mode": {
    "name": "ipython",
    "version": 3
   },
   "file_extension": ".py",
   "mimetype": "text/x-python",
   "name": "python",
   "nbconvert_exporter": "python",
   "pygments_lexer": "ipython3",
   "version": "3.12.2"
  }
 },
 "nbformat": 4,
 "nbformat_minor": 5
}
